{
  "nbformat": 4,
  "nbformat_minor": 0,
  "metadata": {
    "colab": {
      "provenance": [],
      "authorship_tag": "ABX9TyPA7CTbYgYNAyp8OYcqZ0Tp"
    },
    "kernelspec": {
      "name": "python3",
      "display_name": "Python 3"
    },
    "language_info": {
      "name": "python"
    }
  },
  "cells": [
    {
      "cell_type": "code",
      "source": [
        "import polars as pl"
      ],
      "metadata": {
        "id": "yS0ep5DvVPgR"
      },
      "execution_count": 1,
      "outputs": []
    },
    {
      "cell_type": "code",
      "source": [
        "x = pl.Series([1, 2, 3, 4, 5])\n",
        "x"
      ],
      "metadata": {
        "colab": {
          "base_uri": "https://localhost:8080/",
          "height": 237
        },
        "id": "d3_X5EzMVRWh",
        "outputId": "9da2a978-f15f-4e9f-e1ee-0eda459c217c"
      },
      "execution_count": 2,
      "outputs": [
        {
          "output_type": "execute_result",
          "data": {
            "text/plain": [
              "shape: (5,)\n",
              "Series: '' [i64]\n",
              "[\n",
              "\t1\n",
              "\t2\n",
              "\t3\n",
              "\t4\n",
              "\t5\n",
              "]"
            ],
            "text/html": [
              "<div><style>\n",
              ".dataframe > thead > tr,\n",
              ".dataframe > tbody > tr {\n",
              "  text-align: right;\n",
              "  white-space: pre-wrap;\n",
              "}\n",
              "</style>\n",
              "<small>shape: (5,)</small><table border=\"1\" class=\"dataframe\"><thead><tr><th></th></tr><tr><td>i64</td></tr></thead><tbody><tr><td>1</td></tr><tr><td>2</td></tr><tr><td>3</td></tr><tr><td>4</td></tr><tr><td>5</td></tr></tbody></table></div>"
            ]
          },
          "metadata": {},
          "execution_count": 2
        }
      ]
    },
    {
      "cell_type": "code",
      "source": [
        "x = pl.Series(\"col1\", [1,2,3])\n",
        "x"
      ],
      "metadata": {
        "colab": {
          "base_uri": "https://localhost:8080/",
          "height": 192
        },
        "id": "iU89sHpYVWd_",
        "outputId": "c5a9bfa5-84c7-4e42-a71d-47d960669c27"
      },
      "execution_count": 4,
      "outputs": [
        {
          "output_type": "execute_result",
          "data": {
            "text/plain": [
              "shape: (3,)\n",
              "Series: 'col1' [i64]\n",
              "[\n",
              "\t1\n",
              "\t2\n",
              "\t3\n",
              "]"
            ],
            "text/html": [
              "<div><style>\n",
              ".dataframe > thead > tr,\n",
              ".dataframe > tbody > tr {\n",
              "  text-align: right;\n",
              "  white-space: pre-wrap;\n",
              "}\n",
              "</style>\n",
              "<small>shape: (3,)</small><table border=\"1\" class=\"dataframe\"><thead><tr><th>col1</th></tr><tr><td>i64</td></tr></thead><tbody><tr><td>1</td></tr><tr><td>2</td></tr><tr><td>3</td></tr></tbody></table></div>"
            ]
          },
          "metadata": {},
          "execution_count": 4
        }
      ]
    },
    {
      "cell_type": "code",
      "source": [
        "y = pl.Series(\n",
        "    \"col1\" : [1,2,3],\n",
        "    \"col2\" : [10, 20, 30],\n",
        "    \"col3\" : [\"a\", \"b\", \"c\"]\n",
        ")\n",
        "y"
      ],
      "metadata": {
        "colab": {
          "base_uri": "https://localhost:8080/",
          "height": 109
        },
        "id": "lyDe7n9QVlfa",
        "outputId": "ee3cd890-bf72-40f4-b449-9dd76d732562"
      },
      "execution_count": 9,
      "outputs": [
        {
          "output_type": "error",
          "ename": "SyntaxError",
          "evalue": "invalid syntax (ipython-input-9-2788862188.py, line 2)",
          "traceback": [
            "\u001b[0;36m  File \u001b[0;32m\"/tmp/ipython-input-9-2788862188.py\"\u001b[0;36m, line \u001b[0;32m2\u001b[0m\n\u001b[0;31m    \"col1\" : [1,2,3],\u001b[0m\n\u001b[0m           ^\u001b[0m\n\u001b[0;31mSyntaxError\u001b[0m\u001b[0;31m:\u001b[0m invalid syntax\n"
          ]
        }
      ]
    },
    {
      "cell_type": "markdown",
      "source": [
        "このエラーは**`pl.Series`と`pl.DataFrame`を混同している**ために発生しています。\n",
        "\n",
        "**エラーの原因：**\n",
        "\n",
        "1. **`pl.Series`は1つの列（1次元データ）しか作成できません**\n",
        "2. **複数の列を持つデータを作成するには`pl.DataFrame`を使う必要があります**\n",
        "3. **辞書記法（`:`）はDataFrameの構文です**"
      ],
      "metadata": {
        "id": "SGvaSxaQW0S5"
      }
    },
    {
      "cell_type": "code",
      "source": [
        "col1 = pl.Series(\"col1\", [1,2,3])\n",
        "col2 = pl.Series(\"col2\", [10, 20, 30])\n",
        "col3 = pl.Series(\"col3\", [\"a\", \"b\", \"c\"])"
      ],
      "metadata": {
        "colab": {
          "base_uri": "https://localhost:8080/"
        },
        "id": "iBLHpHMCWzyE",
        "outputId": "36b87da8-e095-4d72-a49f-f0746a5a8e8a"
      },
      "execution_count": 12,
      "outputs": [
        {
          "output_type": "execute_result",
          "data": {
            "text/plain": [
              "(shape: (3,)\n",
              " Series: 'col1' [i64]\n",
              " [\n",
              " \t1\n",
              " \t2\n",
              " \t3\n",
              " ],\n",
              " shape: (3,)\n",
              " Series: 'col2' [i64]\n",
              " [\n",
              " \t10\n",
              " \t20\n",
              " \t30\n",
              " ],\n",
              " shape: (3,)\n",
              " Series: 'col3' [str]\n",
              " [\n",
              " \t\"a\"\n",
              " \t\"b\"\n",
              " \t\"c\"\n",
              " ])"
            ]
          },
          "metadata": {},
          "execution_count": 12
        }
      ]
    },
    {
      "cell_type": "markdown",
      "source": [
        ": は辞書の「キーと値を区切る記号」です\n",
        "{} が辞書記法（辞書リテラル）です"
      ],
      "metadata": {
        "id": "tAHpmPiZXUnR"
      }
    },
    {
      "cell_type": "code",
      "source": [
        "y = pl.DataFrame({\n",
        "    \"col1\" : [1,2,3],\n",
        "    \"col2\" : [10,20,30],\n",
        "    \"col3\" : [\"a\",\"b\",\"c\"]\n",
        "})\n",
        "y"
      ],
      "metadata": {
        "colab": {
          "base_uri": "https://localhost:8080/",
          "height": 192
        },
        "id": "Y8oHWPrAWlau",
        "outputId": "2dd6a406-3d37-44df-a2ab-a86eb7d774aa"
      },
      "execution_count": 13,
      "outputs": [
        {
          "output_type": "execute_result",
          "data": {
            "text/plain": [
              "shape: (3, 3)\n",
              "┌──────┬──────┬──────┐\n",
              "│ col1 ┆ col2 ┆ col3 │\n",
              "│ ---  ┆ ---  ┆ ---  │\n",
              "│ i64  ┆ i64  ┆ str  │\n",
              "╞══════╪══════╪══════╡\n",
              "│ 1    ┆ 10   ┆ a    │\n",
              "│ 2    ┆ 20   ┆ b    │\n",
              "│ 3    ┆ 30   ┆ c    │\n",
              "└──────┴──────┴──────┘"
            ],
            "text/html": [
              "<div><style>\n",
              ".dataframe > thead > tr,\n",
              ".dataframe > tbody > tr {\n",
              "  text-align: right;\n",
              "  white-space: pre-wrap;\n",
              "}\n",
              "</style>\n",
              "<small>shape: (3, 3)</small><table border=\"1\" class=\"dataframe\"><thead><tr><th>col1</th><th>col2</th><th>col3</th></tr><tr><td>i64</td><td>i64</td><td>str</td></tr></thead><tbody><tr><td>1</td><td>10</td><td>&quot;a&quot;</td></tr><tr><td>2</td><td>20</td><td>&quot;b&quot;</td></tr><tr><td>3</td><td>30</td><td>&quot;c&quot;</td></tr></tbody></table></div>"
            ]
          },
          "metadata": {},
          "execution_count": 13
        }
      ]
    },
    {
      "cell_type": "markdown",
      "source": [
        "# DataFrameって、numpyやpandasにもありますよね？Polarsだけではないのでしょうか？\n",
        "\n",
        "その通りです！**DataFrame**は複数のライブラリで使われている共通概念です。\n",
        "\n",
        "**DataFrameがある主要なライブラリ：**\n",
        "\n",
        "1. **pandas** - 最も有名\n",
        "   ```python\n",
        "   import pandas as pd\n",
        "   df = pd.DataFrame({\"col1\": [1,2,3], \"col2\": [4,5,6]})\n",
        "   ```\n",
        "\n",
        "2. **Polars** - 高速で新しい\n",
        "   ```python\n",
        "   import polars as pl\n",
        "   df = pl.DataFrame({\"col1\": [1,2,3], \"col2\": [4,5,6]})\n",
        "   ```\n",
        "\n",
        "3. **PySpark** - 分散処理用\n",
        "   ```python\n",
        "   from pyspark.sql import SparkSession\n",
        "   df = spark.createDataFrame(data, schema)\n",
        "   ```\n",
        "\n",
        "4. **Dask** - 並列処理用\n",
        "   ```python\n",
        "   import dask.dataframe as dd\n",
        "   df = dd.from_pandas(pandas_df, npartitions=2)\n",
        "   ```\n",
        "\n",
        "**numpyについて：**\n",
        "- **numpy自体にはDataFrameはありません**\n",
        "- numpyは多次元配列（`ndarray`）を扱います\n",
        "- ただし、pandasのDataFrameの内部ではnumpyの配列が使われています\n",
        "\n",
        "**共通点：**\n",
        "- すべて「行と列を持つ表形式データ」を表現\n",
        "- 似たような操作（フィルタリング、集計など）が可能\n",
        "\n",
        "**違い：**\n",
        "- 性能、メモリ効率、対応する機能などが異なる\n",
        "- pandas（汎用）、Polars（高速）、Spark（分散）など、それぞれ特色があります\n",
        "\n",
        "DataFrameは「表形式データを扱うための標準的な概念」として、多くのライブラリで採用されているんです！"
      ],
      "metadata": {
        "id": "qz3jWe3GYNIo"
      }
    },
    {
      "cell_type": "code",
      "source": [
        "df = pl.DataFrame({\n",
        "    \"col1\" : [1,2,3],\n",
        "    \"col2\" : [10,20,30],\n",
        "    \"col3\" : [\"a\",\"b\",\"c\"]\n",
        "})\n",
        "\n",
        "expr = pl.col(\"col1\").pow(2) + pl.col(\"col2\")\n",
        "df.select(expr)"
      ],
      "metadata": {
        "colab": {
          "base_uri": "https://localhost:8080/",
          "height": 192
        },
        "id": "kSdGlvr4X0OA",
        "outputId": "73678e9b-e906-45b5-bf5a-e0a0f5b2ae99"
      },
      "execution_count": 14,
      "outputs": [
        {
          "output_type": "execute_result",
          "data": {
            "text/plain": [
              "shape: (3, 1)\n",
              "┌──────┐\n",
              "│ col1 │\n",
              "│ ---  │\n",
              "│ i64  │\n",
              "╞══════╡\n",
              "│ 11   │\n",
              "│ 24   │\n",
              "│ 39   │\n",
              "└──────┘"
            ],
            "text/html": [
              "<div><style>\n",
              ".dataframe > thead > tr,\n",
              ".dataframe > tbody > tr {\n",
              "  text-align: right;\n",
              "  white-space: pre-wrap;\n",
              "}\n",
              "</style>\n",
              "<small>shape: (3, 1)</small><table border=\"1\" class=\"dataframe\"><thead><tr><th>col1</th></tr><tr><td>i64</td></tr></thead><tbody><tr><td>11</td></tr><tr><td>24</td></tr><tr><td>39</td></tr></tbody></table></div>"
            ]
          },
          "metadata": {},
          "execution_count": 14
        }
      ]
    },
    {
      "cell_type": "code",
      "source": [
        "df = pl.DataFrame({\n",
        "    \"col1\" : [1,2,3],\n",
        "    \"col2\" : [10,20,30],\n",
        "    \"col3\" : [\"a\",\"b\",\"c\"]\n",
        "})\n",
        "\n",
        "expr = pl.col(\"col1\").pow(2) + pl.col(\"col2\")\n",
        "df.with_columns(expr)"
      ],
      "metadata": {
        "colab": {
          "base_uri": "https://localhost:8080/",
          "height": 192
        },
        "id": "oYi6vD3kYkEI",
        "outputId": "2da21673-69f7-48e4-fd8b-465bd4fbd78b"
      },
      "execution_count": 15,
      "outputs": [
        {
          "output_type": "execute_result",
          "data": {
            "text/plain": [
              "shape: (3, 3)\n",
              "┌──────┬──────┬──────┐\n",
              "│ col1 ┆ col2 ┆ col3 │\n",
              "│ ---  ┆ ---  ┆ ---  │\n",
              "│ i64  ┆ i64  ┆ str  │\n",
              "╞══════╪══════╪══════╡\n",
              "│ 11   ┆ 10   ┆ a    │\n",
              "│ 24   ┆ 20   ┆ b    │\n",
              "│ 39   ┆ 30   ┆ c    │\n",
              "└──────┴──────┴──────┘"
            ],
            "text/html": [
              "<div><style>\n",
              ".dataframe > thead > tr,\n",
              ".dataframe > tbody > tr {\n",
              "  text-align: right;\n",
              "  white-space: pre-wrap;\n",
              "}\n",
              "</style>\n",
              "<small>shape: (3, 3)</small><table border=\"1\" class=\"dataframe\"><thead><tr><th>col1</th><th>col2</th><th>col3</th></tr><tr><td>i64</td><td>i64</td><td>str</td></tr></thead><tbody><tr><td>11</td><td>10</td><td>&quot;a&quot;</td></tr><tr><td>24</td><td>20</td><td>&quot;b&quot;</td></tr><tr><td>39</td><td>30</td><td>&quot;c&quot;</td></tr></tbody></table></div>"
            ]
          },
          "metadata": {},
          "execution_count": 15
        }
      ]
    },
    {
      "cell_type": "code",
      "source": [
        "df = pl.DataFrame({\n",
        "    \"col1\" : [1,2,3],\n",
        "    \"col2\" : [10,20,30],\n",
        "    \"col3\" : [\"a\",\"b\",\"c\"]\n",
        "})\n",
        "\n",
        "expr = pl.col(\"col1\").pow(2) + pl.col(\"col2\")\n",
        "df.with_columns(col4=expr)"
      ],
      "metadata": {
        "colab": {
          "base_uri": "https://localhost:8080/",
          "height": 192
        },
        "id": "IWeGRHLRYpi4",
        "outputId": "aaadda06-777e-4467-8d07-957ae11d94ff"
      },
      "execution_count": 16,
      "outputs": [
        {
          "output_type": "execute_result",
          "data": {
            "text/plain": [
              "shape: (3, 4)\n",
              "┌──────┬──────┬──────┬──────┐\n",
              "│ col1 ┆ col2 ┆ col3 ┆ col4 │\n",
              "│ ---  ┆ ---  ┆ ---  ┆ ---  │\n",
              "│ i64  ┆ i64  ┆ str  ┆ i64  │\n",
              "╞══════╪══════╪══════╪══════╡\n",
              "│ 1    ┆ 10   ┆ a    ┆ 11   │\n",
              "│ 2    ┆ 20   ┆ b    ┆ 24   │\n",
              "│ 3    ┆ 30   ┆ c    ┆ 39   │\n",
              "└──────┴──────┴──────┴──────┘"
            ],
            "text/html": [
              "<div><style>\n",
              ".dataframe > thead > tr,\n",
              ".dataframe > tbody > tr {\n",
              "  text-align: right;\n",
              "  white-space: pre-wrap;\n",
              "}\n",
              "</style>\n",
              "<small>shape: (3, 4)</small><table border=\"1\" class=\"dataframe\"><thead><tr><th>col1</th><th>col2</th><th>col3</th><th>col4</th></tr><tr><td>i64</td><td>i64</td><td>str</td><td>i64</td></tr></thead><tbody><tr><td>1</td><td>10</td><td>&quot;a&quot;</td><td>11</td></tr><tr><td>2</td><td>20</td><td>&quot;b&quot;</td><td>24</td></tr><tr><td>3</td><td>30</td><td>&quot;c&quot;</td><td>39</td></tr></tbody></table></div>"
            ]
          },
          "metadata": {},
          "execution_count": 16
        }
      ]
    },
    {
      "cell_type": "code",
      "source": [],
      "metadata": {
        "id": "Bat4Sb68YtZU"
      },
      "execution_count": null,
      "outputs": []
    }
  ]
}